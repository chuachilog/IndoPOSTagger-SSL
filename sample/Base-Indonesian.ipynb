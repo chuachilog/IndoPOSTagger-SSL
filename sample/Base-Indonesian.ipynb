{
 "cells": [
  {
   "cell_type": "code",
   "execution_count": 1,
   "id": "d2773bef-5fce-49e5-9adf-36ffede4f801",
   "metadata": {},
   "outputs": [],
   "source": [
    "from SupervisedScikit import Supervised_Scikit"
   ]
  },
  {
   "cell_type": "markdown",
   "id": "37941bb9-d829-41c6-87ab-fbb37967a909",
   "metadata": {},
   "source": [
    "# SVM (LinearSVC) Part-of-Speech"
   ]
  },
  {
   "cell_type": "code",
   "execution_count": 2,
   "id": "0ec7d348-9d46-4a93-b7b1-e5603e18ee96",
   "metadata": {},
   "outputs": [],
   "source": [
    "from sklearn import svm"
   ]
  },
  {
   "cell_type": "code",
   "execution_count": 3,
   "id": "c2d6ed1a-faf0-435a-bcc5-45b523afc2e1",
   "metadata": {},
   "outputs": [],
   "source": [
    "clf = svm.LinearSVC()"
   ]
  },
  {
   "cell_type": "code",
   "execution_count": 4,
   "id": "c41fe279-6790-46b5-8378-d8724e6ebaf4",
   "metadata": {},
   "outputs": [],
   "source": [
    "svm_pos = Supervised_Scikit()"
   ]
  },
  {
   "cell_type": "markdown",
   "id": "ddf967ee-3073-4468-89a9-bdc3fa86423e",
   "metadata": {},
   "source": [
    "## UD_Indonesian-GSD"
   ]
  },
  {
   "cell_type": "markdown",
   "id": "251c1595-d160-4bd8-be05-cfc9e112cece",
   "metadata": {},
   "source": [
    "### Evaluation (UD_Indonesian-GSD_11971_tokens.test)"
   ]
  },
  {
   "cell_type": "code",
   "execution_count": 5,
   "id": "625c83b9-e853-4839-9c30-866884050219",
   "metadata": {},
   "outputs": [],
   "source": [
    "svm_pos = Supervised_Scikit(\"./SVM_POS_training_set_UD_Indonesian-GSD_520_tokens\")"
   ]
  },
  {
   "cell_type": "code",
   "execution_count": 6,
   "id": "08e40865-9672-4aa9-a5c0-069171c7cbb7",
   "metadata": {},
   "outputs": [
    {
     "name": "stderr",
     "output_type": "stream",
     "text": [
      "D:\\University\\MCS\\OneDrive - student.tarc.edu.my\\Source Code\\MCS\\lib\\site-packages\\sklearn\\metrics\\_classification.py:1469: UndefinedMetricWarning: Precision and F-score are ill-defined and being set to 0.0 in labels with no predicted samples. Use `zero_division` parameter to control this behavior.\n",
      "  _warn_prf(average, modifier, msg_start, len(result))\n",
      "D:\\University\\MCS\\OneDrive - student.tarc.edu.my\\Source Code\\MCS\\lib\\site-packages\\sklearn\\metrics\\_classification.py:1469: UndefinedMetricWarning: Precision and F-score are ill-defined and being set to 0.0 in labels with no predicted samples. Use `zero_division` parameter to control this behavior.\n",
      "  _warn_prf(average, modifier, msg_start, len(result))\n",
      "D:\\University\\MCS\\OneDrive - student.tarc.edu.my\\Source Code\\MCS\\lib\\site-packages\\sklearn\\metrics\\_classification.py:1469: UndefinedMetricWarning: Precision and F-score are ill-defined and being set to 0.0 in labels with no predicted samples. Use `zero_division` parameter to control this behavior.\n",
      "  _warn_prf(average, modifier, msg_start, len(result))\n"
     ]
    }
   ],
   "source": [
    "_, _, _, _, report = svm_pos.evaluation('../../Dataset/UD/UD_Indonesian-GSD/UD_Indonesian-GSD_11971_tokens.test')"
   ]
  },
  {
   "cell_type": "code",
   "execution_count": 7,
   "id": "6c4166a0-9109-4fa3-b68d-0ae93922d6c3",
   "metadata": {},
   "outputs": [
    {
     "name": "stdout",
     "output_type": "stream",
     "text": [
      "report\n",
      "              precision    recall  f1-score   support\n",
      "\n",
      "         ADJ       0.55      0.30      0.39       488\n",
      "         ADP       0.85      0.78      0.81      1114\n",
      "         ADV       0.56      0.34      0.42       346\n",
      "         AUX       0.94      0.52      0.67       229\n",
      "       CCONJ       0.98      0.90      0.94       362\n",
      "         DET       0.81      0.60      0.69       341\n",
      "        NOUN       0.71      0.79      0.74      2511\n",
      "         NUM       0.95      0.86      0.90       384\n",
      "        PART       1.00      0.79      0.88        89\n",
      "        PRON       0.86      0.88      0.87       644\n",
      "       PROPN       0.80      0.93      0.86      2162\n",
      "       PUNCT       1.00      1.00      1.00      1623\n",
      "       SCONJ       0.67      0.52      0.58       194\n",
      "         SYM       0.00      0.00      0.00         6\n",
      "        VERB       0.79      0.85      0.82      1258\n",
      "           X       0.00      0.00      0.00         5\n",
      "           _       0.75      0.91      0.82       215\n",
      "\n",
      "    accuracy                           0.81     11971\n",
      "   macro avg       0.72      0.64      0.67     11971\n",
      "weighted avg       0.81      0.81      0.80     11971\n",
      "\n"
     ]
    }
   ],
   "source": [
    "print('report')\n",
    "print(report)"
   ]
  },
  {
   "cell_type": "markdown",
   "id": "61bdfab7-e63b-4323-a914-10cf7e101c96",
   "metadata": {},
   "source": [
    "# Naïve Bayes (Gaussian) Part-of-Speech"
   ]
  },
  {
   "cell_type": "code",
   "execution_count": 8,
   "id": "36fdee12-bfef-472d-8e65-5fb2dbb938c1",
   "metadata": {},
   "outputs": [],
   "source": [
    "from sklearn.naive_bayes import GaussianNB\n",
    "clf = GaussianNB()\n",
    "nb_pos = Supervised_Scikit()"
   ]
  },
  {
   "cell_type": "markdown",
   "id": "870c7819-3a08-4b09-bde2-b6e818207b13",
   "metadata": {},
   "source": [
    "## UD_Indonesian-GSD"
   ]
  },
  {
   "cell_type": "code",
   "execution_count": 10,
   "id": "25443e5b-ea47-475b-88ea-1762c284e097",
   "metadata": {},
   "outputs": [],
   "source": [
    "nb_pos.fit(train_data_path=\"../../Dataset/UD/UD_Indonesian-GSD/UD_Indonesian-GSD_520_tokens.train\",classifier=clf)"
   ]
  },
  {
   "cell_type": "markdown",
   "id": "2906b93a-ba1e-4ed1-a571-5d9ff6304cde",
   "metadata": {},
   "source": [
    "### Evaluation (UD_Indonesian-GSD_11971_tokens.test)"
   ]
  },
  {
   "cell_type": "code",
   "execution_count": 13,
   "id": "5c544202-b77b-42f6-991b-ba0779ee88ed",
   "metadata": {},
   "outputs": [
    {
     "name": "stderr",
     "output_type": "stream",
     "text": [
      "D:\\University\\MCS\\OneDrive - student.tarc.edu.my\\Source Code\\MCS\\lib\\site-packages\\sklearn\\metrics\\_classification.py:1469: UndefinedMetricWarning: Precision and F-score are ill-defined and being set to 0.0 in labels with no predicted samples. Use `zero_division` parameter to control this behavior.\n",
      "  _warn_prf(average, modifier, msg_start, len(result))\n",
      "D:\\University\\MCS\\OneDrive - student.tarc.edu.my\\Source Code\\MCS\\lib\\site-packages\\sklearn\\metrics\\_classification.py:1469: UndefinedMetricWarning: Precision and F-score are ill-defined and being set to 0.0 in labels with no predicted samples. Use `zero_division` parameter to control this behavior.\n",
      "  _warn_prf(average, modifier, msg_start, len(result))\n",
      "D:\\University\\MCS\\OneDrive - student.tarc.edu.my\\Source Code\\MCS\\lib\\site-packages\\sklearn\\metrics\\_classification.py:1469: UndefinedMetricWarning: Precision and F-score are ill-defined and being set to 0.0 in labels with no predicted samples. Use `zero_division` parameter to control this behavior.\n",
      "  _warn_prf(average, modifier, msg_start, len(result))\n"
     ]
    }
   ],
   "source": [
    "_, _, _, _, report = nb_pos.evaluation('../../Dataset/UD/UD_Indonesian-GSD/UD_Indonesian-GSD_11971_tokens.test')"
   ]
  },
  {
   "cell_type": "code",
   "execution_count": 14,
   "id": "5d182d8d-f0fc-43ad-956e-b2cce0654187",
   "metadata": {},
   "outputs": [
    {
     "name": "stdout",
     "output_type": "stream",
     "text": [
      "report\n",
      "              precision    recall  f1-score   support\n",
      "\n",
      "         ADJ       0.40      0.37      0.38       488\n",
      "         ADP       0.71      0.67      0.69      1114\n",
      "         ADV       0.38      0.42      0.40       346\n",
      "         AUX       0.77      0.52      0.62       229\n",
      "       CCONJ       0.96      0.91      0.93       362\n",
      "         DET       0.64      0.58      0.61       341\n",
      "        NOUN       0.54      0.62      0.58      2511\n",
      "         NUM       0.86      0.89      0.87       384\n",
      "        PART       0.90      0.79      0.84        89\n",
      "        PRON       0.76      0.91      0.83       644\n",
      "       PROPN       0.76      0.56      0.64      2162\n",
      "       PUNCT       1.00      1.00      1.00      1623\n",
      "       SCONJ       0.31      0.56      0.39       194\n",
      "         SYM       0.00      0.00      0.00         6\n",
      "        VERB       0.67      0.73      0.70      1258\n",
      "           X       0.00      0.00      0.00         5\n",
      "           _       0.71      0.71      0.71       215\n",
      "\n",
      "    accuracy                           0.69     11971\n",
      "   macro avg       0.61      0.60      0.60     11971\n",
      "weighted avg       0.70      0.69      0.69     11971\n",
      "\n"
     ]
    }
   ],
   "source": [
    "print('report')\n",
    "print(report)"
   ]
  },
  {
   "cell_type": "markdown",
   "id": "a9dd1df1-406b-4ba0-8531-34d987f71a95",
   "metadata": {
    "jp-MarkdownHeadingCollapsed": true
   },
   "source": [
    "# Naïve Bayes (Complement) Part-of-Speech"
   ]
  },
  {
   "cell_type": "code",
   "execution_count": 15,
   "id": "1ec32d39-bb2a-49fc-8071-26f0125ee875",
   "metadata": {},
   "outputs": [],
   "source": [
    "from sklearn.naive_bayes import ComplementNB\n",
    "clf = ComplementNB()\n",
    "nb_pos = Supervised_Scikit()"
   ]
  },
  {
   "cell_type": "markdown",
   "id": "5ae81db1-69d6-41f9-9f8a-6c7322fccb87",
   "metadata": {},
   "source": [
    "## UD_Indonesian-GSD"
   ]
  },
  {
   "cell_type": "code",
   "execution_count": 16,
   "id": "75eb138d-2f25-4d1c-9828-f73f31e2bbf1",
   "metadata": {},
   "outputs": [],
   "source": [
    "nb_pos.fit(train_data_path=\"../../Dataset/UD/UD_Indonesian-GSD/UD_Indonesian-GSD_520_tokens.train\",classifier=clf)"
   ]
  },
  {
   "cell_type": "markdown",
   "id": "75e44c53-a933-4e7e-aab6-7680dcd7230b",
   "metadata": {},
   "source": [
    "### Evaluation (UD_Indonesian-GSD_11971_tokens.test)"
   ]
  },
  {
   "cell_type": "code",
   "execution_count": 17,
   "id": "633e1adc-0506-42fd-b22e-f0fc4f85c0eb",
   "metadata": {},
   "outputs": [
    {
     "name": "stderr",
     "output_type": "stream",
     "text": [
      "D:\\University\\MCS\\OneDrive - student.tarc.edu.my\\Source Code\\MCS\\lib\\site-packages\\sklearn\\metrics\\_classification.py:1469: UndefinedMetricWarning: Precision and F-score are ill-defined and being set to 0.0 in labels with no predicted samples. Use `zero_division` parameter to control this behavior.\n",
      "  _warn_prf(average, modifier, msg_start, len(result))\n",
      "D:\\University\\MCS\\OneDrive - student.tarc.edu.my\\Source Code\\MCS\\lib\\site-packages\\sklearn\\metrics\\_classification.py:1469: UndefinedMetricWarning: Precision and F-score are ill-defined and being set to 0.0 in labels with no predicted samples. Use `zero_division` parameter to control this behavior.\n",
      "  _warn_prf(average, modifier, msg_start, len(result))\n",
      "D:\\University\\MCS\\OneDrive - student.tarc.edu.my\\Source Code\\MCS\\lib\\site-packages\\sklearn\\metrics\\_classification.py:1469: UndefinedMetricWarning: Precision and F-score are ill-defined and being set to 0.0 in labels with no predicted samples. Use `zero_division` parameter to control this behavior.\n",
      "  _warn_prf(average, modifier, msg_start, len(result))\n"
     ]
    }
   ],
   "source": [
    "_, _, _, _, report = nb_pos.evaluation('../../Dataset/UD/UD_Indonesian-GSD/UD_Indonesian-GSD_11971_tokens.test')"
   ]
  },
  {
   "cell_type": "code",
   "execution_count": 18,
   "id": "8b37d00f-9f36-425c-9285-a31aca9dea08",
   "metadata": {},
   "outputs": [
    {
     "name": "stdout",
     "output_type": "stream",
     "text": [
      "report\n",
      "              precision    recall  f1-score   support\n",
      "\n",
      "         ADJ       0.59      0.30      0.39       488\n",
      "         ADP       0.80      0.76      0.78      1114\n",
      "         ADV       0.54      0.35      0.42       346\n",
      "         AUX       0.85      0.52      0.64       229\n",
      "       CCONJ       0.89      0.90      0.90       362\n",
      "         DET       0.62      0.60      0.61       341\n",
      "        NOUN       0.71      0.63      0.67      2511\n",
      "         NUM       0.91      0.88      0.89       384\n",
      "        PART       0.78      0.79      0.78        89\n",
      "        PRON       0.62      0.89      0.73       644\n",
      "       PROPN       0.76      0.85      0.80      2162\n",
      "       PUNCT       0.99      1.00      1.00      1623\n",
      "       SCONJ       0.61      0.54      0.57       194\n",
      "         SYM       0.00      0.00      0.00         6\n",
      "        VERB       0.71      0.87      0.78      1258\n",
      "           X       0.00      0.00      0.00         5\n",
      "           _       0.79      0.85      0.82       215\n",
      "\n",
      "    accuracy                           0.77     11971\n",
      "   macro avg       0.66      0.63      0.63     11971\n",
      "weighted avg       0.76      0.77      0.76     11971\n",
      "\n"
     ]
    }
   ],
   "source": [
    "print('report')\n",
    "print(report)"
   ]
  },
  {
   "cell_type": "markdown",
   "id": "39c3d7d5-41da-49a9-be24-ad19e8d2e455",
   "metadata": {},
   "source": [
    "# Decision Tree (DecisionTreeClassifier)"
   ]
  },
  {
   "cell_type": "code",
   "execution_count": 19,
   "id": "a06982f8-b41b-449c-9016-36c28b278586",
   "metadata": {},
   "outputs": [],
   "source": [
    "from sklearn.tree import DecisionTreeClassifier\n",
    "clf = DecisionTreeClassifier()\n",
    "dt_pos = Supervised_Scikit()"
   ]
  },
  {
   "cell_type": "markdown",
   "id": "5d81c780-0f09-4019-afb5-a40769479e28",
   "metadata": {},
   "source": [
    "## UD_Indonesian-GSD"
   ]
  },
  {
   "cell_type": "code",
   "execution_count": 20,
   "id": "7b83661c-ac4e-4cab-8843-5b1c0fa150d8",
   "metadata": {},
   "outputs": [],
   "source": [
    "dt_pos.fit(train_data_path=\"../../Dataset/UD/UD_Indonesian-GSD/UD_Indonesian-GSD_520_tokens.train\",classifier=clf)"
   ]
  },
  {
   "cell_type": "markdown",
   "id": "3ed9cad3-c0ab-49a1-99d2-f2c8ac9266c4",
   "metadata": {},
   "source": [
    "### Evaluation (UD_Indonesian-GSD_11971_tokens.test)"
   ]
  },
  {
   "cell_type": "code",
   "execution_count": 21,
   "id": "9bb3a5db-537d-4262-92e3-c22c9e4219d4",
   "metadata": {},
   "outputs": [
    {
     "name": "stderr",
     "output_type": "stream",
     "text": [
      "D:\\University\\MCS\\OneDrive - student.tarc.edu.my\\Source Code\\MCS\\lib\\site-packages\\sklearn\\metrics\\_classification.py:1469: UndefinedMetricWarning: Precision and F-score are ill-defined and being set to 0.0 in labels with no predicted samples. Use `zero_division` parameter to control this behavior.\n",
      "  _warn_prf(average, modifier, msg_start, len(result))\n",
      "D:\\University\\MCS\\OneDrive - student.tarc.edu.my\\Source Code\\MCS\\lib\\site-packages\\sklearn\\metrics\\_classification.py:1469: UndefinedMetricWarning: Precision and F-score are ill-defined and being set to 0.0 in labels with no predicted samples. Use `zero_division` parameter to control this behavior.\n",
      "  _warn_prf(average, modifier, msg_start, len(result))\n",
      "D:\\University\\MCS\\OneDrive - student.tarc.edu.my\\Source Code\\MCS\\lib\\site-packages\\sklearn\\metrics\\_classification.py:1469: UndefinedMetricWarning: Precision and F-score are ill-defined and being set to 0.0 in labels with no predicted samples. Use `zero_division` parameter to control this behavior.\n",
      "  _warn_prf(average, modifier, msg_start, len(result))\n"
     ]
    }
   ],
   "source": [
    "_, _, _, _, report = dt_pos.evaluation('../../Dataset/UD/UD_Indonesian-GSD/UD_Indonesian-GSD_11971_tokens.test')"
   ]
  },
  {
   "cell_type": "code",
   "execution_count": 22,
   "id": "225470a0-0356-48b8-aee4-7593d5f82458",
   "metadata": {},
   "outputs": [
    {
     "name": "stdout",
     "output_type": "stream",
     "text": [
      "report\n",
      "              precision    recall  f1-score   support\n",
      "\n",
      "         ADJ       0.44      0.25      0.32       488\n",
      "         ADP       0.77      0.72      0.74      1114\n",
      "         ADV       0.58      0.32      0.41       346\n",
      "         AUX       0.69      0.50      0.58       229\n",
      "       CCONJ       0.99      0.90      0.94       362\n",
      "         DET       0.80      0.47      0.59       341\n",
      "        NOUN       0.66      0.73      0.69      2511\n",
      "         NUM       0.83      0.83      0.83       384\n",
      "        PART       0.99      0.78      0.87        89\n",
      "        PRON       0.71      0.85      0.77       644\n",
      "       PROPN       0.80      0.93      0.86      2162\n",
      "       PUNCT       1.00      1.00      1.00      1623\n",
      "       SCONJ       0.41      0.25      0.31       194\n",
      "         SYM       0.00      0.00      0.00         6\n",
      "        VERB       0.79      0.84      0.81      1258\n",
      "           X       0.00      0.00      0.00         5\n",
      "           _       0.90      0.74      0.81       215\n",
      "\n",
      "    accuracy                           0.78     11971\n",
      "   macro avg       0.67      0.59      0.62     11971\n",
      "weighted avg       0.77      0.78      0.77     11971\n",
      "\n"
     ]
    }
   ],
   "source": [
    "print('report')\n",
    "print(report)"
   ]
  },
  {
   "cell_type": "markdown",
   "id": "302e3e60-2fef-4a55-be28-92ce11444561",
   "metadata": {},
   "source": [
    "# K-Nearest Neighbor (KNN)"
   ]
  },
  {
   "cell_type": "code",
   "execution_count": 6,
   "id": "e768fa6a-274c-4bcf-94aa-1ac052d797fc",
   "metadata": {},
   "outputs": [],
   "source": [
    "from sklearn.neighbors import KNeighborsClassifier\n",
    "clf = KNeighborsClassifier()\n",
    "knn_pos = Supervised_Scikit()"
   ]
  },
  {
   "cell_type": "markdown",
   "id": "27ac0dd1-1a47-4e3d-ba46-616ab901e82c",
   "metadata": {},
   "source": [
    "## Using Euclidean distance"
   ]
  },
  {
   "cell_type": "markdown",
   "id": "73b544e4-9954-4690-9f74-2c8ea21ba062",
   "metadata": {},
   "source": [
    "### UD_Indonesian-GSD"
   ]
  },
  {
   "cell_type": "code",
   "execution_count": 7,
   "id": "fd186988-5974-42d1-9f66-7d18218b25c0",
   "metadata": {},
   "outputs": [],
   "source": [
    "knn_pos.fit(train_data_path=\"../../Dataset/UD/UD_Indonesian-GSD/UD_Indonesian-GSD_520_tokens.train\",classifier=clf)"
   ]
  },
  {
   "cell_type": "markdown",
   "id": "a91f488f-92b4-482a-a95e-73497b61ba55",
   "metadata": {},
   "source": [
    "#### Evaluation (UD_Indonesian-GSD_11971_tokens.test)"
   ]
  },
  {
   "cell_type": "code",
   "execution_count": 8,
   "id": "b4b0ad4c-c06d-4689-b0cf-c426dbce83ee",
   "metadata": {},
   "outputs": [
    {
     "name": "stderr",
     "output_type": "stream",
     "text": [
      "D:\\University\\MCS\\OneDrive - student.tarc.edu.my\\Source Code\\MCS\\lib\\site-packages\\sklearn\\metrics\\_classification.py:1469: UndefinedMetricWarning: Precision and F-score are ill-defined and being set to 0.0 in labels with no predicted samples. Use `zero_division` parameter to control this behavior.\n",
      "  _warn_prf(average, modifier, msg_start, len(result))\n",
      "D:\\University\\MCS\\OneDrive - student.tarc.edu.my\\Source Code\\MCS\\lib\\site-packages\\sklearn\\metrics\\_classification.py:1469: UndefinedMetricWarning: Precision and F-score are ill-defined and being set to 0.0 in labels with no predicted samples. Use `zero_division` parameter to control this behavior.\n",
      "  _warn_prf(average, modifier, msg_start, len(result))\n",
      "D:\\University\\MCS\\OneDrive - student.tarc.edu.my\\Source Code\\MCS\\lib\\site-packages\\sklearn\\metrics\\_classification.py:1469: UndefinedMetricWarning: Precision and F-score are ill-defined and being set to 0.0 in labels with no predicted samples. Use `zero_division` parameter to control this behavior.\n",
      "  _warn_prf(average, modifier, msg_start, len(result))\n"
     ]
    }
   ],
   "source": [
    "_, _, _, _, report = knn_pos.evaluation('../../Dataset/UD/UD_Indonesian-GSD/UD_Indonesian-GSD_11971_tokens.test')"
   ]
  },
  {
   "cell_type": "code",
   "execution_count": 9,
   "id": "85d2c710-1a64-47c4-86b5-41dbc71de623",
   "metadata": {},
   "outputs": [
    {
     "name": "stdout",
     "output_type": "stream",
     "text": [
      "report\n",
      "              precision    recall  f1-score   support\n",
      "\n",
      "         ADJ       0.42      0.20      0.27       488\n",
      "         ADP       0.64      0.74      0.69      1114\n",
      "         ADV       0.40      0.20      0.27       346\n",
      "         AUX       0.48      0.57      0.52       229\n",
      "       CCONJ       0.79      0.89      0.84       362\n",
      "         DET       0.37      0.60      0.46       341\n",
      "        NOUN       0.62      0.60      0.61      2511\n",
      "         NUM       0.87      0.75      0.80       384\n",
      "        PART       0.81      0.44      0.57        89\n",
      "        PRON       0.66      0.81      0.73       644\n",
      "       PROPN       0.81      0.80      0.81      2162\n",
      "       PUNCT       1.00      1.00      1.00      1623\n",
      "       SCONJ       0.50      0.30      0.37       194\n",
      "         SYM       0.00      0.00      0.00         6\n",
      "        VERB       0.72      0.76      0.74      1258\n",
      "           X       0.00      0.00      0.00         5\n",
      "           _       0.69      0.79      0.73       215\n",
      "\n",
      "    accuracy                           0.71     11971\n",
      "   macro avg       0.58      0.56      0.55     11971\n",
      "weighted avg       0.71      0.71      0.71     11971\n",
      "\n"
     ]
    }
   ],
   "source": [
    "print('report')\n",
    "print(report)"
   ]
  },
  {
   "cell_type": "markdown",
   "id": "f2d0b79a-abb3-4d09-a80b-6071815d1ade",
   "metadata": {},
   "source": [
    "## Using cosine similarity"
   ]
  },
  {
   "cell_type": "code",
   "execution_count": 23,
   "id": "e313a3c3-921c-4d0d-bb51-efa3f3988204",
   "metadata": {},
   "outputs": [],
   "source": [
    "clf = KNeighborsClassifier(metric='cosine')"
   ]
  },
  {
   "cell_type": "markdown",
   "id": "7883b11a-019f-4f99-8771-31cbf9f61416",
   "metadata": {},
   "source": [
    "### UD_Indonesian-GSD"
   ]
  },
  {
   "cell_type": "code",
   "execution_count": 24,
   "id": "efa2eb6d-ea37-4985-b369-5f95dffa0223",
   "metadata": {},
   "outputs": [],
   "source": [
    "knn_pos.fit(train_data_path=\"../../Dataset/UD/UD_Indonesian-GSD/UD_Indonesian-GSD_520_tokens.train\",classifier=clf)"
   ]
  },
  {
   "cell_type": "markdown",
   "id": "b23a7e10-4767-4e05-8b5a-26ef97f593de",
   "metadata": {},
   "source": [
    "#### Evaluation (UD_Indonesian-GSD_11971_tokens.test)"
   ]
  },
  {
   "cell_type": "code",
   "execution_count": 25,
   "id": "b3789550-29ba-42d4-a991-87be0bf0127c",
   "metadata": {},
   "outputs": [
    {
     "name": "stderr",
     "output_type": "stream",
     "text": [
      "D:\\University\\MCS\\OneDrive - student.tarc.edu.my\\Source Code\\MCS\\lib\\site-packages\\sklearn\\metrics\\_classification.py:1469: UndefinedMetricWarning: Precision and F-score are ill-defined and being set to 0.0 in labels with no predicted samples. Use `zero_division` parameter to control this behavior.\n",
      "  _warn_prf(average, modifier, msg_start, len(result))\n",
      "D:\\University\\MCS\\OneDrive - student.tarc.edu.my\\Source Code\\MCS\\lib\\site-packages\\sklearn\\metrics\\_classification.py:1469: UndefinedMetricWarning: Precision and F-score are ill-defined and being set to 0.0 in labels with no predicted samples. Use `zero_division` parameter to control this behavior.\n",
      "  _warn_prf(average, modifier, msg_start, len(result))\n",
      "D:\\University\\MCS\\OneDrive - student.tarc.edu.my\\Source Code\\MCS\\lib\\site-packages\\sklearn\\metrics\\_classification.py:1469: UndefinedMetricWarning: Precision and F-score are ill-defined and being set to 0.0 in labels with no predicted samples. Use `zero_division` parameter to control this behavior.\n",
      "  _warn_prf(average, modifier, msg_start, len(result))\n"
     ]
    }
   ],
   "source": [
    "_, _, _, _, report = knn_pos.evaluation('../../Dataset/UD/UD_Indonesian-GSD/UD_Indonesian-GSD_11971_tokens.test')"
   ]
  },
  {
   "cell_type": "code",
   "execution_count": 26,
   "id": "a04a9f07-21b7-4161-ad30-593b55234745",
   "metadata": {},
   "outputs": [
    {
     "name": "stdout",
     "output_type": "stream",
     "text": [
      "report\n",
      "              precision    recall  f1-score   support\n",
      "\n",
      "         ADJ       0.27      0.21      0.24       488\n",
      "         ADP       0.64      0.75      0.69      1114\n",
      "         ADV       0.36      0.21      0.26       346\n",
      "         AUX       0.52      0.56      0.54       229\n",
      "       CCONJ       0.81      0.90      0.85       362\n",
      "         DET       0.44      0.59      0.51       341\n",
      "        NOUN       0.60      0.56      0.58      2511\n",
      "         NUM       0.86      0.76      0.81       384\n",
      "        PART       0.62      0.63      0.62        89\n",
      "        PRON       0.63      0.83      0.71       644\n",
      "       PROPN       0.80      0.76      0.78      2162\n",
      "       PUNCT       1.00      1.00      1.00      1623\n",
      "       SCONJ       0.46      0.28      0.35       194\n",
      "         SYM       0.00      0.00      0.00         6\n",
      "        VERB       0.72      0.77      0.74      1258\n",
      "           X       0.00      0.00      0.00         5\n",
      "           _       0.67      0.79      0.72       215\n",
      "\n",
      "    accuracy                           0.70     11971\n",
      "   macro avg       0.55      0.56      0.55     11971\n",
      "weighted avg       0.70      0.70      0.70     11971\n",
      "\n"
     ]
    }
   ],
   "source": [
    "print('report')\n",
    "print(report)"
   ]
  },
  {
   "cell_type": "code",
   "execution_count": null,
   "id": "32cec037-aec1-4b66-b4b4-b1052eb4a6a2",
   "metadata": {},
   "outputs": [],
   "source": []
  }
 ],
 "metadata": {
  "kernelspec": {
   "display_name": "Python 3 (ipykernel)",
   "language": "python",
   "name": "python3"
  },
  "language_info": {
   "codemirror_mode": {
    "name": "ipython",
    "version": 3
   },
   "file_extension": ".py",
   "mimetype": "text/x-python",
   "name": "python",
   "nbconvert_exporter": "python",
   "pygments_lexer": "ipython3",
   "version": "3.10.5"
  }
 },
 "nbformat": 4,
 "nbformat_minor": 5
}
