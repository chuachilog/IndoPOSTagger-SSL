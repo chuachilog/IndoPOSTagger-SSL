{
 "cells": [
  {
   "cell_type": "code",
   "execution_count": 1,
   "id": "4838d544-4c5d-45e0-a063-d3334bf20cb0",
   "metadata": {},
   "outputs": [],
   "source": [
    "from SemiScikit import Semi_Scikit"
   ]
  },
  {
   "cell_type": "markdown",
   "id": "f2d0226a-6ea5-43ce-bf21-dc02b09337ee",
   "metadata": {},
   "source": [
    "# SVM (LinearSVC) Part-of-Speech"
   ]
  },
  {
   "cell_type": "code",
   "execution_count": 2,
   "id": "c55fc5ae-370d-48ae-99e6-f08e9b92122e",
   "metadata": {},
   "outputs": [],
   "source": [
    "from sklearn import svm"
   ]
  },
  {
   "cell_type": "code",
   "execution_count": 3,
   "id": "d82913dd-19c3-4a6d-8692-1f0b4449d1f7",
   "metadata": {},
   "outputs": [],
   "source": [
    "clf = svm.LinearSVC()"
   ]
  },
  {
   "cell_type": "code",
   "execution_count": 4,
   "id": "719c6494-adb2-497e-b77f-866f58dcb05c",
   "metadata": {},
   "outputs": [],
   "source": [
    "semi_svm = Semi_Scikit()"
   ]
  },
  {
   "cell_type": "markdown",
   "id": "52470b6a-73a1-4155-8225-1d0769ffc969",
   "metadata": {},
   "source": [
    "## UD_Indonesian-GSD"
   ]
  },
  {
   "cell_type": "code",
   "execution_count": 5,
   "id": "47821f83-665c-4395-a321-ef9053e0c145",
   "metadata": {},
   "outputs": [
    {
     "name": "stderr",
     "output_type": "stream",
     "text": [
      "D:\\University\\MCS\\OneDrive - student.tarc.edu.my\\Source Code\\MCS\\lib\\site-packages\\sklearn\\svm\\_classes.py:32: FutureWarning: The default value of `dual` will change from `True` to `'auto'` in 1.5. Set the value of `dual` explicitly to suppress the warning.\n",
      "  warnings.warn(\n",
      "D:\\University\\MCS\\OneDrive - student.tarc.edu.my\\Source Code\\MCS\\lib\\site-packages\\sklearn\\svm\\_base.py:1242: ConvergenceWarning: Liblinear failed to converge, increase the number of iterations.\n",
      "  warnings.warn(\n"
     ]
    }
   ],
   "source": [
    "semi_svm.fit(train_data_path=\"../../Dataset/UD/UD_Indonesian-GSD/UD_Indonesian-GSD_520_tokens.train\",bitstring_data_path='../../Dataset/percyliang_brown_cluster_training_model/input_419055_records_from_cc100_Indonesian-c500-p1',classifier=clf)"
   ]
  },
  {
   "cell_type": "markdown",
   "id": "4b457d2c-1cf0-44fc-b776-99362814bb20",
   "metadata": {},
   "source": [
    "### Evaluation (UD_Indonesian-GSD_11971_tokens.test)"
   ]
  },
  {
   "cell_type": "code",
   "execution_count": 6,
   "id": "4fa29f35-8f8c-4f10-8d9a-6bb93352da48",
   "metadata": {},
   "outputs": [
    {
     "name": "stderr",
     "output_type": "stream",
     "text": [
      "D:\\University\\MCS\\OneDrive - student.tarc.edu.my\\Source Code\\MCS\\lib\\site-packages\\sklearn\\metrics\\_classification.py:1469: UndefinedMetricWarning: Precision and F-score are ill-defined and being set to 0.0 in labels with no predicted samples. Use `zero_division` parameter to control this behavior.\n",
      "  _warn_prf(average, modifier, msg_start, len(result))\n",
      "D:\\University\\MCS\\OneDrive - student.tarc.edu.my\\Source Code\\MCS\\lib\\site-packages\\sklearn\\metrics\\_classification.py:1469: UndefinedMetricWarning: Precision and F-score are ill-defined and being set to 0.0 in labels with no predicted samples. Use `zero_division` parameter to control this behavior.\n",
      "  _warn_prf(average, modifier, msg_start, len(result))\n",
      "D:\\University\\MCS\\OneDrive - student.tarc.edu.my\\Source Code\\MCS\\lib\\site-packages\\sklearn\\metrics\\_classification.py:1469: UndefinedMetricWarning: Precision and F-score are ill-defined and being set to 0.0 in labels with no predicted samples. Use `zero_division` parameter to control this behavior.\n",
      "  _warn_prf(average, modifier, msg_start, len(result))\n"
     ]
    }
   ],
   "source": [
    "_, _, _, _, report = semi_svm.evaluation('../../Dataset/UD/UD_Indonesian-GSD/UD_Indonesian-GSD_11971_tokens.test')"
   ]
  },
  {
   "cell_type": "code",
   "execution_count": 7,
   "id": "99d3c863-d99f-45fc-9253-65dc3c851e75",
   "metadata": {},
   "outputs": [
    {
     "name": "stdout",
     "output_type": "stream",
     "text": [
      "report\n",
      "              precision    recall  f1-score   support\n",
      "\n",
      "         ADJ       0.74      0.50      0.59       488\n",
      "         ADP       0.89      0.85      0.87      1114\n",
      "         ADV       0.55      0.57      0.56       346\n",
      "         AUX       0.92      0.58      0.71       229\n",
      "       CCONJ       0.97      0.93      0.95       362\n",
      "         DET       0.82      0.80      0.81       341\n",
      "        NOUN       0.81      0.81      0.81      2511\n",
      "         NUM       0.90      0.78      0.84       384\n",
      "        PART       0.78      0.82      0.80        89\n",
      "        PRON       0.84      0.93      0.88       644\n",
      "       PROPN       0.77      0.88      0.82      2162\n",
      "       PUNCT       0.98      1.00      0.99      1623\n",
      "       SCONJ       0.59      0.63      0.61       194\n",
      "         SYM       0.00      0.00      0.00         6\n",
      "        VERB       0.87      0.87      0.87      1258\n",
      "           X       0.00      0.00      0.00         5\n",
      "           _       0.73      0.57      0.64       215\n",
      "\n",
      "    accuracy                           0.84     11971\n",
      "   macro avg       0.72      0.68      0.69     11971\n",
      "weighted avg       0.84      0.84      0.83     11971\n",
      "\n"
     ]
    }
   ],
   "source": [
    "print('report')\n",
    "print(report)"
   ]
  },
  {
   "cell_type": "markdown",
   "id": "b242e5f8-80fd-4b52-9d1a-d4a8da8fc08b",
   "metadata": {},
   "source": [
    "# Naïve Bayes (Gaussian) Part-of-Speech"
   ]
  },
  {
   "cell_type": "code",
   "execution_count": 8,
   "id": "c774e586-655d-4c74-9bf0-58a6962941a8",
   "metadata": {},
   "outputs": [],
   "source": [
    "from sklearn.naive_bayes import GaussianNB\n",
    "clf = GaussianNB()\n",
    "semi_nb_pos = Semi_Scikit()"
   ]
  },
  {
   "cell_type": "markdown",
   "id": "3209d4d4-30e7-48ba-8487-1a6a23bd6af2",
   "metadata": {},
   "source": [
    "## UD_Indonesian-GSD"
   ]
  },
  {
   "cell_type": "code",
   "execution_count": 9,
   "id": "020c055e-d12c-41a4-8f56-d57da17f2813",
   "metadata": {},
   "outputs": [],
   "source": [
    "semi_nb_pos.fit(train_data_path=\"../../Dataset/UD/UD_Indonesian-GSD/UD_Indonesian-GSD_520_tokens.train\",bitstring_data_path='../../Dataset/percyliang_brown_cluster_training_model/input_419055_records_from_cc100_Indonesian-c500-p1',classifier=clf)"
   ]
  },
  {
   "cell_type": "markdown",
   "id": "1b2bdfa6-e65b-4f0d-8e5e-f146067826a9",
   "metadata": {},
   "source": [
    "### Evaluation (UD_Indonesian-GSD_11971_tokens.test)"
   ]
  },
  {
   "cell_type": "code",
   "execution_count": 10,
   "id": "eb240e5c-2b40-4f95-8460-1b331efcc212",
   "metadata": {},
   "outputs": [
    {
     "name": "stderr",
     "output_type": "stream",
     "text": [
      "D:\\University\\MCS\\OneDrive - student.tarc.edu.my\\Source Code\\MCS\\lib\\site-packages\\sklearn\\metrics\\_classification.py:1469: UndefinedMetricWarning: Precision and F-score are ill-defined and being set to 0.0 in labels with no predicted samples. Use `zero_division` parameter to control this behavior.\n",
      "  _warn_prf(average, modifier, msg_start, len(result))\n",
      "D:\\University\\MCS\\OneDrive - student.tarc.edu.my\\Source Code\\MCS\\lib\\site-packages\\sklearn\\metrics\\_classification.py:1469: UndefinedMetricWarning: Precision and F-score are ill-defined and being set to 0.0 in labels with no predicted samples. Use `zero_division` parameter to control this behavior.\n",
      "  _warn_prf(average, modifier, msg_start, len(result))\n",
      "D:\\University\\MCS\\OneDrive - student.tarc.edu.my\\Source Code\\MCS\\lib\\site-packages\\sklearn\\metrics\\_classification.py:1469: UndefinedMetricWarning: Precision and F-score are ill-defined and being set to 0.0 in labels with no predicted samples. Use `zero_division` parameter to control this behavior.\n",
      "  _warn_prf(average, modifier, msg_start, len(result))\n"
     ]
    }
   ],
   "source": [
    "_, _, _, _, report = semi_nb_pos.evaluation('../../Dataset/UD/UD_Indonesian-GSD/UD_Indonesian-GSD_11971_tokens.test')"
   ]
  },
  {
   "cell_type": "code",
   "execution_count": 11,
   "id": "92c979ca-6081-44f2-898f-250afa977aac",
   "metadata": {},
   "outputs": [
    {
     "name": "stdout",
     "output_type": "stream",
     "text": [
      "report\n",
      "              precision    recall  f1-score   support\n",
      "\n",
      "         ADJ       0.60      0.31      0.41       488\n",
      "         ADP       0.79      0.82      0.80      1114\n",
      "         ADV       0.64      0.38      0.48       346\n",
      "         AUX       0.87      0.20      0.33       229\n",
      "       CCONJ       0.99      0.52      0.68       362\n",
      "         DET       0.77      0.50      0.61       341\n",
      "        NOUN       0.57      0.80      0.66      2511\n",
      "         NUM       0.84      0.53      0.65       384\n",
      "        PART       0.84      0.55      0.67        89\n",
      "        PRON       0.69      0.80      0.74       644\n",
      "       PROPN       0.68      0.70      0.69      2162\n",
      "       PUNCT       0.96      0.97      0.97      1623\n",
      "       SCONJ       0.52      0.34      0.41       194\n",
      "         SYM       0.00      0.00      0.00         6\n",
      "        VERB       0.79      0.78      0.79      1258\n",
      "           X       0.00      0.00      0.00         5\n",
      "           _       0.39      0.18      0.24       215\n",
      "\n",
      "    accuracy                           0.71     11971\n",
      "   macro avg       0.64      0.49      0.54     11971\n",
      "weighted avg       0.73      0.71      0.70     11971\n",
      "\n"
     ]
    }
   ],
   "source": [
    "print('report')\n",
    "print(report)"
   ]
  },
  {
   "cell_type": "markdown",
   "id": "9b1a3827-1eed-4e0f-a96e-704b1531fc20",
   "metadata": {},
   "source": [
    "# Naïve Bayes (Complement) Part-of-Speech"
   ]
  },
  {
   "cell_type": "code",
   "execution_count": 12,
   "id": "e4469940-3b9e-4ea7-92c1-9ccc5f911a13",
   "metadata": {},
   "outputs": [],
   "source": [
    "from sklearn.naive_bayes import ComplementNB\n",
    "clf = ComplementNB()\n",
    "semi_nb_pos = Semi_Scikit()"
   ]
  },
  {
   "cell_type": "markdown",
   "id": "9682c22a-b372-46a1-bbc6-1565d8978d73",
   "metadata": {},
   "source": [
    "## UD_Indonesian-GSD"
   ]
  },
  {
   "cell_type": "code",
   "execution_count": 13,
   "id": "b7afcf79-ec18-4621-82e9-cfc20fbd521e",
   "metadata": {},
   "outputs": [],
   "source": [
    "semi_nb_pos.fit(train_data_path=\"../../Dataset/UD/UD_Indonesian-GSD/UD_Indonesian-GSD_520_tokens.train\",bitstring_data_path='../../Dataset/percyliang_brown_cluster_training_model/input_419055_records_from_cc100_Indonesian-c500-p1',classifier=clf)"
   ]
  },
  {
   "cell_type": "markdown",
   "id": "59cc7c09-cd51-4af3-a716-d42117514730",
   "metadata": {},
   "source": [
    "### Evaluation (UD_Indonesian-GSD_11971_tokens.test)"
   ]
  },
  {
   "cell_type": "code",
   "execution_count": 14,
   "id": "0410d70b-df96-4655-a5ce-f95d318f9f0d",
   "metadata": {},
   "outputs": [
    {
     "name": "stderr",
     "output_type": "stream",
     "text": [
      "D:\\University\\MCS\\OneDrive - student.tarc.edu.my\\Source Code\\MCS\\lib\\site-packages\\sklearn\\metrics\\_classification.py:1469: UndefinedMetricWarning: Precision and F-score are ill-defined and being set to 0.0 in labels with no predicted samples. Use `zero_division` parameter to control this behavior.\n",
      "  _warn_prf(average, modifier, msg_start, len(result))\n",
      "D:\\University\\MCS\\OneDrive - student.tarc.edu.my\\Source Code\\MCS\\lib\\site-packages\\sklearn\\metrics\\_classification.py:1469: UndefinedMetricWarning: Precision and F-score are ill-defined and being set to 0.0 in labels with no predicted samples. Use `zero_division` parameter to control this behavior.\n",
      "  _warn_prf(average, modifier, msg_start, len(result))\n",
      "D:\\University\\MCS\\OneDrive - student.tarc.edu.my\\Source Code\\MCS\\lib\\site-packages\\sklearn\\metrics\\_classification.py:1469: UndefinedMetricWarning: Precision and F-score are ill-defined and being set to 0.0 in labels with no predicted samples. Use `zero_division` parameter to control this behavior.\n",
      "  _warn_prf(average, modifier, msg_start, len(result))\n"
     ]
    }
   ],
   "source": [
    "_, _, _, _, report = semi_nb_pos.evaluation('../../Dataset/UD/UD_Indonesian-GSD/UD_Indonesian-GSD_11971_tokens.test')"
   ]
  },
  {
   "cell_type": "code",
   "execution_count": 15,
   "id": "7a39b63b-176c-4065-af5a-d4fbe8a165aa",
   "metadata": {},
   "outputs": [
    {
     "name": "stdout",
     "output_type": "stream",
     "text": [
      "report\n",
      "              precision    recall  f1-score   support\n",
      "\n",
      "         ADJ       0.83      0.38      0.52       488\n",
      "         ADP       0.86      0.83      0.84      1114\n",
      "         ADV       0.67      0.46      0.55       346\n",
      "         AUX       0.91      0.55      0.69       229\n",
      "       CCONJ       0.98      0.93      0.95       362\n",
      "         DET       0.80      0.69      0.74       341\n",
      "        NOUN       0.81      0.80      0.81      2511\n",
      "         NUM       0.92      0.53      0.68       384\n",
      "        PART       0.81      0.79      0.80        89\n",
      "        PRON       0.76      0.93      0.83       644\n",
      "       PROPN       0.70      0.89      0.79      2162\n",
      "       PUNCT       0.96      1.00      0.98      1623\n",
      "       SCONJ       0.71      0.45      0.55       194\n",
      "         SYM       0.00      0.00      0.00         6\n",
      "        VERB       0.77      0.92      0.84      1258\n",
      "           X       0.00      0.00      0.00         5\n",
      "           _       0.56      0.13      0.22       215\n",
      "\n",
      "    accuracy                           0.81     11971\n",
      "   macro avg       0.71      0.60      0.63     11971\n",
      "weighted avg       0.81      0.81      0.80     11971\n",
      "\n"
     ]
    }
   ],
   "source": [
    "print('report')\n",
    "print(report)"
   ]
  },
  {
   "cell_type": "markdown",
   "id": "180a83c1-d115-4bd3-b71c-23e15c43c73d",
   "metadata": {},
   "source": [
    "# Decision Tree (DecisionTreeClassifier)"
   ]
  },
  {
   "cell_type": "code",
   "execution_count": 16,
   "id": "c552b329-ee25-41b6-a016-649d4f07d3da",
   "metadata": {},
   "outputs": [],
   "source": [
    "from sklearn.tree import DecisionTreeClassifier\n",
    "clf = DecisionTreeClassifier()\n",
    "semi_dt = Semi_Scikit()"
   ]
  },
  {
   "cell_type": "markdown",
   "id": "110032c7-4460-49fb-ad31-4bd93da91db6",
   "metadata": {},
   "source": [
    "## UD_Indonesian-GSD"
   ]
  },
  {
   "cell_type": "code",
   "execution_count": 17,
   "id": "b3986574-f55e-4401-ab2c-cbeebc2ae7c7",
   "metadata": {},
   "outputs": [],
   "source": [
    "semi_dt.fit(train_data_path=\"../../Dataset/UD/UD_Indonesian-GSD/UD_Indonesian-GSD_520_tokens.train\",bitstring_data_path='../../Dataset/percyliang_brown_cluster_training_model/input_419055_records_from_cc100_Indonesian-c500-p1',classifier=clf)"
   ]
  },
  {
   "cell_type": "markdown",
   "id": "9eba388d-04c5-43c9-a5e1-b37785f576a4",
   "metadata": {},
   "source": [
    "### Evaluation (UD_Indonesian-GSD_11971_tokens.test)"
   ]
  },
  {
   "cell_type": "code",
   "execution_count": 18,
   "id": "e4c7cb7c-5bea-4323-8065-1baaaa184d90",
   "metadata": {},
   "outputs": [
    {
     "name": "stderr",
     "output_type": "stream",
     "text": [
      "D:\\University\\MCS\\OneDrive - student.tarc.edu.my\\Source Code\\MCS\\lib\\site-packages\\sklearn\\metrics\\_classification.py:1469: UndefinedMetricWarning: Precision and F-score are ill-defined and being set to 0.0 in labels with no predicted samples. Use `zero_division` parameter to control this behavior.\n",
      "  _warn_prf(average, modifier, msg_start, len(result))\n",
      "D:\\University\\MCS\\OneDrive - student.tarc.edu.my\\Source Code\\MCS\\lib\\site-packages\\sklearn\\metrics\\_classification.py:1469: UndefinedMetricWarning: Precision and F-score are ill-defined and being set to 0.0 in labels with no predicted samples. Use `zero_division` parameter to control this behavior.\n",
      "  _warn_prf(average, modifier, msg_start, len(result))\n",
      "D:\\University\\MCS\\OneDrive - student.tarc.edu.my\\Source Code\\MCS\\lib\\site-packages\\sklearn\\metrics\\_classification.py:1469: UndefinedMetricWarning: Precision and F-score are ill-defined and being set to 0.0 in labels with no predicted samples. Use `zero_division` parameter to control this behavior.\n",
      "  _warn_prf(average, modifier, msg_start, len(result))\n"
     ]
    }
   ],
   "source": [
    "_, _, _, _, report = semi_dt.evaluation('../../Dataset/UD/UD_Indonesian-GSD/UD_Indonesian-GSD_11971_tokens.test')"
   ]
  },
  {
   "cell_type": "code",
   "execution_count": 19,
   "id": "574dcb37-1387-4804-925a-3e86eca8ae8a",
   "metadata": {},
   "outputs": [
    {
     "name": "stdout",
     "output_type": "stream",
     "text": [
      "report\n",
      "              precision    recall  f1-score   support\n",
      "\n",
      "         ADJ       0.45      0.38      0.41       488\n",
      "         ADP       0.86      0.79      0.82      1114\n",
      "         ADV       0.51      0.62      0.56       346\n",
      "         AUX       0.91      0.62      0.74       229\n",
      "       CCONJ       0.98      0.93      0.95       362\n",
      "         DET       0.60      0.71      0.65       341\n",
      "        NOUN       0.80      0.80      0.80      2511\n",
      "         NUM       0.84      0.83      0.84       384\n",
      "        PART       0.77      0.80      0.78        89\n",
      "        PRON       0.83      0.90      0.86       644\n",
      "       PROPN       0.84      0.87      0.86      2162\n",
      "       PUNCT       1.00      1.00      1.00      1623\n",
      "       SCONJ       0.44      0.44      0.44       194\n",
      "         SYM       0.00      0.00      0.00         6\n",
      "        VERB       0.83      0.84      0.83      1258\n",
      "           X       0.00      0.00      0.00         5\n",
      "           _       0.78      0.72      0.75       215\n",
      "\n",
      "    accuracy                           0.82     11971\n",
      "   macro avg       0.67      0.66      0.66     11971\n",
      "weighted avg       0.82      0.82      0.82     11971\n",
      "\n"
     ]
    }
   ],
   "source": [
    "print('report')\n",
    "print(report)"
   ]
  },
  {
   "cell_type": "markdown",
   "id": "c62392dd-b7d6-4f87-821f-e9fb14e8414c",
   "metadata": {},
   "source": [
    "# K-Nearest Neighbor (KNN)"
   ]
  },
  {
   "cell_type": "code",
   "execution_count": 20,
   "id": "4af401bb-ed58-4147-8f03-6a31e734aef6",
   "metadata": {},
   "outputs": [],
   "source": [
    "from sklearn.neighbors import KNeighborsClassifier\n",
    "clf = KNeighborsClassifier()\n",
    "semi_knn = Semi_Scikit()"
   ]
  },
  {
   "cell_type": "markdown",
   "id": "6b720927-5be5-4406-943b-73cf967f6f9d",
   "metadata": {},
   "source": [
    "## UD_Indonesian-GSD"
   ]
  },
  {
   "cell_type": "code",
   "execution_count": 21,
   "id": "cbbdf34d-2e5f-4ca2-9ea5-832f7701d063",
   "metadata": {},
   "outputs": [],
   "source": [
    "semi_knn.fit(train_data_path=\"../../Dataset/UD/UD_Indonesian-GSD/UD_Indonesian-GSD_520_tokens.train\",bitstring_data_path='../../Dataset/percyliang_brown_cluster_training_model/input_419055_records_from_cc100_Indonesian-c500-p1',classifier=clf)"
   ]
  },
  {
   "cell_type": "markdown",
   "id": "8d3ff703-0ab5-41fc-ad97-cd6926750635",
   "metadata": {},
   "source": [
    "### Evaluation (UD_Indonesian-GSD_11971_tokens.test)"
   ]
  },
  {
   "cell_type": "code",
   "execution_count": 22,
   "id": "24b25c04-e575-4e14-b9df-92f901d1480c",
   "metadata": {},
   "outputs": [
    {
     "name": "stderr",
     "output_type": "stream",
     "text": [
      "D:\\University\\MCS\\OneDrive - student.tarc.edu.my\\Source Code\\MCS\\lib\\site-packages\\sklearn\\metrics\\_classification.py:1469: UndefinedMetricWarning: Precision and F-score are ill-defined and being set to 0.0 in labels with no predicted samples. Use `zero_division` parameter to control this behavior.\n",
      "  _warn_prf(average, modifier, msg_start, len(result))\n",
      "D:\\University\\MCS\\OneDrive - student.tarc.edu.my\\Source Code\\MCS\\lib\\site-packages\\sklearn\\metrics\\_classification.py:1469: UndefinedMetricWarning: Precision and F-score are ill-defined and being set to 0.0 in labels with no predicted samples. Use `zero_division` parameter to control this behavior.\n",
      "  _warn_prf(average, modifier, msg_start, len(result))\n",
      "D:\\University\\MCS\\OneDrive - student.tarc.edu.my\\Source Code\\MCS\\lib\\site-packages\\sklearn\\metrics\\_classification.py:1469: UndefinedMetricWarning: Precision and F-score are ill-defined and being set to 0.0 in labels with no predicted samples. Use `zero_division` parameter to control this behavior.\n",
      "  _warn_prf(average, modifier, msg_start, len(result))\n"
     ]
    }
   ],
   "source": [
    "_, _, _, _, report = semi_knn.evaluation('../../Dataset/UD/UD_Indonesian-GSD/UD_Indonesian-GSD_11971_tokens.test')"
   ]
  },
  {
   "cell_type": "code",
   "execution_count": 23,
   "id": "2710163a-45d3-4390-b440-850e7606552f",
   "metadata": {},
   "outputs": [
    {
     "name": "stdout",
     "output_type": "stream",
     "text": [
      "report\n",
      "              precision    recall  f1-score   support\n",
      "\n",
      "         ADJ       0.51      0.32      0.39       488\n",
      "         ADP       0.73      0.80      0.76      1114\n",
      "         ADV       0.48      0.43      0.45       346\n",
      "         AUX       0.83      0.33      0.47       229\n",
      "       CCONJ       0.70      0.92      0.79       362\n",
      "         DET       0.56      0.69      0.62       341\n",
      "        NOUN       0.75      0.73      0.74      2511\n",
      "         NUM       0.81      0.34      0.48       384\n",
      "        PART       0.78      0.75      0.77        89\n",
      "        PRON       0.69      0.83      0.76       644\n",
      "       PROPN       0.67      0.79      0.72      2162\n",
      "       PUNCT       0.82      0.93      0.87      1623\n",
      "       SCONJ       0.55      0.25      0.34       194\n",
      "         SYM       0.00      0.00      0.00         6\n",
      "        VERB       0.77      0.73      0.75      1258\n",
      "           X       0.00      0.00      0.00         5\n",
      "           _       0.25      0.03      0.06       215\n",
      "\n",
      "    accuracy                           0.72     11971\n",
      "   macro avg       0.58      0.52      0.53     11971\n",
      "weighted avg       0.71      0.72      0.70     11971\n",
      "\n"
     ]
    }
   ],
   "source": [
    "print('report')\n",
    "print(report)"
   ]
  },
  {
   "cell_type": "code",
   "execution_count": null,
   "id": "8a257388-5b3e-46ad-8301-6f9022f60520",
   "metadata": {},
   "outputs": [],
   "source": []
  }
 ],
 "metadata": {
  "kernelspec": {
   "display_name": "Python 3 (ipykernel)",
   "language": "python",
   "name": "python3"
  },
  "language_info": {
   "codemirror_mode": {
    "name": "ipython",
    "version": 3
   },
   "file_extension": ".py",
   "mimetype": "text/x-python",
   "name": "python",
   "nbconvert_exporter": "python",
   "pygments_lexer": "ipython3",
   "version": "3.10.5"
  }
 },
 "nbformat": 4,
 "nbformat_minor": 5
}
